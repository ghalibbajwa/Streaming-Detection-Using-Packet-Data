{
 "cells": [
  {
   "cell_type": "code",
   "execution_count": 25,
   "metadata": {},
   "outputs": [],
   "source": [
    "import pandas as pd \n",
    "import numpy as np \n",
    "import matplotlib.pyplot as plt \n",
    "import matplotlib.dates as mdates\n",
    "import seaborn as sns\n",
    "from sklearn import preprocessing\n",
    "from datetime import datetime\n",
    "import plotly.express as px\n",
    "import statistics"
   ]
  },
  {
   "cell_type": "code",
   "execution_count": 145,
   "metadata": {},
   "outputs": [],
   "source": [
    "dt=pd.read_csv('Data/packets.csv')"
   ]
  },
  {
   "cell_type": "code",
   "execution_count": 146,
   "metadata": {},
   "outputs": [
    {
     "name": "stdout",
     "output_type": "stream",
     "text": [
      "             Source      Destination Protocol  Length        DT  source port  \\\n",
      "0    142.250.180.42  192.168.137.185      UDP      74  0.000000        443.0   \n",
      "1    142.250.180.42  192.168.137.185      UDP      74  0.063438        443.0   \n",
      "2    142.250.180.42  192.168.137.185      UDP      74  0.123586        443.0   \n",
      "3   192.168.137.185   142.250.180.42      UDP      75  0.024475      62030.0   \n",
      "4   192.168.137.185   142.250.180.42      UDP      77  0.000000      62030.0   \n",
      "..              ...              ...      ...     ...       ...          ...   \n",
      "95  192.168.137.185    216.58.208.67     QUIC     121  0.000279      53924.0   \n",
      "96  192.168.137.185    216.58.208.67     QUIC      75  0.000178      53924.0   \n",
      "97    216.58.208.67  192.168.137.185     QUIC      67  0.017287        443.0   \n",
      "98    216.58.208.67  192.168.137.185     QUIC     146  0.000087        443.0   \n",
      "99  192.168.137.185    216.58.208.67     QUIC      75  0.001661      53924.0   \n",
      "\n",
      "      Absolute Time  Cumulative Bytes  dest port  \n",
      "0   16:47:47.942724                74    62030.0  \n",
      "1   16:47:48.006162               148    62030.0  \n",
      "2   16:47:48.129748               222    62030.0  \n",
      "3   16:47:48.154223               297      443.0  \n",
      "4   16:47:48.154223               374      443.0  \n",
      "..              ...               ...        ...  \n",
      "95  16:48:05.739692             46240      443.0  \n",
      "96  16:48:05.739870             46315      443.0  \n",
      "97  16:48:05.757157             46382    53924.0  \n",
      "98  16:48:05.757244             46528    53924.0  \n",
      "99  16:48:05.758905             46603      443.0  \n",
      "\n",
      "[100 rows x 9 columns]\n"
     ]
    }
   ],
   "source": [
    "print(dt.head(100))"
   ]
  },
  {
   "cell_type": "code",
   "execution_count": 147,
   "metadata": {},
   "outputs": [],
   "source": [
    "myip=' 192.168.137.185'\n",
    "direction=[]\n"
   ]
  },
  {
   "cell_type": "code",
   "execution_count": 148,
   "metadata": {},
   "outputs": [],
   "source": [
    "for i in dt['Destination']:\n",
    "    if(i==myip):\n",
    "        direction.append('in')\n",
    "    else:\n",
    "        direction.append('out')"
   ]
  },
  {
   "cell_type": "code",
   "execution_count": 149,
   "metadata": {},
   "outputs": [],
   "source": [
    "dt.insert(0,'direction',direction)"
   ]
  },
  {
   "cell_type": "code",
   "execution_count": 150,
   "metadata": {},
   "outputs": [
    {
     "name": "stdout",
     "output_type": "stream",
     "text": [
      "direction             0\n",
      "Source                0\n",
      "Destination           0\n",
      "Protocol              0\n",
      "Length                0\n",
      "DT                    0\n",
      "source port         145\n",
      "Absolute Time         0\n",
      "Cumulative Bytes      0\n",
      "dest port           145\n",
      "dtype: int64\n"
     ]
    }
   ],
   "source": [
    "print(dt.isnull().sum()) "
   ]
  },
  {
   "cell_type": "code",
   "execution_count": 151,
   "metadata": {},
   "outputs": [],
   "source": [
    "dt['source port'].fillna(443,inplace=True)"
   ]
  },
  {
   "cell_type": "code",
   "execution_count": 152,
   "metadata": {},
   "outputs": [],
   "source": [
    "inp=[]\n",
    "out=[]\n",
    "leng_mean=[]\n",
    "leng_std=[]\n",
    "leng_min=[]\n",
    "leng_max=[]\n",
    "sum_dt=[]\n",
    "port=[]"
   ]
  },
  {
   "cell_type": "code",
   "execution_count": 153,
   "metadata": {},
   "outputs": [],
   "source": [
    "start=0\n",
    "end=100\n",
    "inps=0\n",
    "outs=0\n",
    "cc=round(dt.shape[0]/100)\n",
    "tempdf=[]\n",
    "tempport=[]\n",
    "tempdt=0\n",
    "for i in range(cc):\n",
    "    for k in range(start,end):\n",
    "        if(dt['direction'][k]=='in'):\n",
    "            inps=inps+1\n",
    "        else:\n",
    "            outs=outs+1\n",
    "        tempdf.append(dt['Length'][k])\n",
    "        tempdt=tempdt+dt['DT'][k]\n",
    "        tempport.append(dt['source port'][k])\n",
    "\n",
    "        \n",
    "    leng_mean.append(statistics.mean(tempdf))\n",
    "    leng_std.append(statistics.stdev(tempdf))\n",
    "    leng_min.append(min(tempdf))\n",
    "    leng_max.append(max(tempdf))\n",
    "    sum_dt.append(tempdt)\n",
    "    port.append(max(tempport,key=tempport.count))\n",
    "    \n",
    "    inp.append(inps)\n",
    "    out.append(outs)\n",
    "    start=start+100\n",
    "    end=end+100\n",
    "    inps=0\n",
    "    outs=0\n",
    "    tempdf=[]\n",
    "    tempport=[]\n",
    "    tempdt=0\n"
   ]
  },
  {
   "cell_type": "code",
   "execution_count": 154,
   "metadata": {},
   "outputs": [],
   "source": [
    "df=pd.DataFrame()"
   ]
  },
  {
   "cell_type": "code",
   "execution_count": 155,
   "metadata": {},
   "outputs": [],
   "source": [
    "df.insert(0,'inp',inp)\n",
    "df.insert(1,'out',out)\n",
    "df.insert(2,'leng_mean',leng_mean)\n",
    "df.insert(3,'leng_std',leng_std)\n",
    "df.insert(4,'leng_min',leng_min)\n",
    "df.insert(5,'leng_max',leng_max)\n",
    "df.insert(6,'sum_dt',sum_dt)\n",
    "df.insert(7,'port',port)\n"
   ]
  },
  {
   "cell_type": "code",
   "execution_count": 156,
   "metadata": {},
   "outputs": [],
   "source": [
    "df.to_csv('Data/packets_stat.csv')"
   ]
  },
  {
   "cell_type": "code",
   "execution_count": 157,
   "metadata": {},
   "outputs": [
    {
     "data": {
      "text/plain": [
       "<AxesSubplot:>"
      ]
     },
     "execution_count": 157,
     "metadata": {},
     "output_type": "execute_result"
    },
    {
     "data": {
      "image/png": "[encoded data removed]",
      "text/plain": [
       "<Figure size 432x288 with 1 Axes>"
      ]
     },
     "metadata": {
      "needs_background": "light"
     },
     "output_type": "display_data"
    }
   ],
   "source": [
    "df['port'].value_counts().plot(kind='bar')"
   ]
  },
  {
   "cell_type": "code",
   "execution_count": 142,
   "metadata": {},
   "outputs": [],
   "source": [
    "import pandas as pd\n",
    "import numpy as np\n",
    "import matplotlib.pyplot as plt\n",
    "from sklearn import preprocessing\n",
    "from datetime import datetime\n",
    "from sklearn.model_selection import train_test_split \n",
    "from sklearn.preprocessing import StandardScaler\n",
    "from sklearn.neighbors import KNeighborsClassifier\n",
    "from sklearn.metrics import classification_report, confusion_matrix\n",
    "import pickle\n",
    "from sklearn import preprocessing"
   ]
  },
  {
   "cell_type": "code",
   "execution_count": 143,
   "metadata": {},
   "outputs": [
    {
     "name": "stdout",
     "output_type": "stream",
     "text": [
      "[[124   0   0   0   1   0]\n",
      " [  0  12   2   1  11  35]\n",
      " [  0   9  19   7   9  26]\n",
      " [  0   2   5  22   6  18]\n",
      " [  0   5   9  11  26  30]\n",
      " [  1  10   9  13  23  56]]\n",
      "              precision    recall  f1-score   support\n",
      "\n",
      "       443.0       0.99      0.99      0.99       125\n",
      "     41983.0       0.32      0.20      0.24        61\n",
      "     42113.0       0.43      0.27      0.33        70\n",
      "     42203.0       0.41      0.42      0.41        53\n",
      "     42565.0       0.34      0.32      0.33        81\n",
      "     42806.0       0.34      0.50      0.40       112\n",
      "\n",
      "    accuracy                           0.52       502\n",
      "   macro avg       0.47      0.45      0.45       502\n",
      "weighted avg       0.52      0.52      0.51       502\n",
      "\n"
     ]
    }
   ],
   "source": [
    "X=df[[ 'inp', 'out', 'leng_mean', 'leng_std', 'leng_min', 'leng_max', 'sum_dt']].values\n",
    "y=df['port'].values # target\n",
    "\n",
    "X_train, X_test, y_train, y_test = train_test_split(X, y, test_size=0.20) # 20% test data\n",
    "\n",
    "classifier = KNeighborsClassifier(n_neighbors=50) # KNN object\n",
    "classifier.fit(X_train, y_train) # Fit the KNN object to the training data\n",
    "\n",
    "y_pred = classifier.predict(X_test) # Predict the test data\n",
    "\n",
    "print(confusion_matrix(y_test, y_pred)) # Confusion Matrix\n",
    "print(classification_report(y_test, y_pred)) # Classification Report"
   ]
  },
  {
   "cell_type": "code",
   "execution_count": 144,
   "metadata": {},
   "outputs": [],
   "source": [
    "filename = 'KNN2.sav' \n",
    "pickle.dump(classifier , open(filename, 'wb')) # Save the model"
   ]
  },
  {
   "cell_type": "code",
   "execution_count": 159,
   "metadata": {},
   "outputs": [
    {
     "name": "stdout",
     "output_type": "stream",
     "text": [
      "   Unnamed: 0  inp  out  leng_mean    leng_std  leng_min  leng_max     sum_dt  \\\n",
      "0           0    0  100        466  566.704509        54      1466  17.816181   \n",
      "1           1    0  100        415  563.245062        54      1466   2.250242   \n",
      "2           2    0  100        475  596.364821        54      1466   6.478611   \n",
      "3           3    0  100        397  461.134471        54      1466   0.324330   \n",
      "4           4    0  100        462  525.759451        54      1466   0.252357   \n",
      "\n",
      "    port  \n",
      "0  443.0  \n",
      "1  443.0  \n",
      "2  443.0  \n",
      "3  443.0  \n",
      "4  443.0  \n"
     ]
    }
   ],
   "source": [
    "df4=pd.read_csv('Data/packets_stat.csv')\n",
    "\n",
    "print(df4.head())"
   ]
  },
  {
   "cell_type": "code",
   "execution_count": 160,
   "metadata": {},
   "outputs": [],
   "source": [
    "X2=df4[[ 'inp', 'out', 'leng_mean', 'leng_std', 'leng_min', 'leng_max', 'sum_dt']].values\n",
    "loaded_model = pickle.load(open(filename, 'rb')) # Load the model \n",
    "Result = loaded_model.predict(X2) # Predict the test data"
   ]
  },
  {
   "cell_type": "code",
   "execution_count": 161,
   "metadata": {},
   "outputs": [],
   "source": [
    "df4['Predict'] = Result # Add the predicted data to the dataframe"
   ]
  },
  {
   "cell_type": "code",
   "execution_count": 162,
   "metadata": {},
   "outputs": [
    {
     "data": {
      "text/plain": [
       "<AxesSubplot:ylabel='Predict'>"
      ]
     },
     "execution_count": 162,
     "metadata": {},
     "output_type": "execute_result"
    },
    {
     "data": {
      "image/png": "[encoded data removed]",
      "text/plain": [
       "<Figure size 432x288 with 1 Axes>"
      ]
     },
     "metadata": {},
     "output_type": "display_data"
    }
   ],
   "source": [
    "df4['Predict'].value_counts().plot(kind='pie') # Predicted"
   ]
  },
  {
   "cell_type": "code",
   "execution_count": 163,
   "metadata": {},
   "outputs": [
    {
     "data": {
      "text/plain": [
       "<AxesSubplot:ylabel='port'>"
      ]
     },
     "execution_count": 163,
     "metadata": {},
     "output_type": "execute_result"
    },
    {
     "data": {
      "image/png": "[encoded data removed]",
      "text/plain": [
       "<Figure size 432x288 with 1 Axes>"
      ]
     },
     "metadata": {},
     "output_type": "display_data"
    }
   ],
   "source": [
    "df4['port'].value_counts().plot(kind='pie') # Actual Port distribution"
   ]
  }
 ],
 "metadata": {
  "interpreter": {
   "hash": "75ec59e174848c9bbbe994493803464d4a3b0efdc7804d5dc9069175ac4a8038"
  },
  "kernelspec": {
   "display_name": "Python 3.9.7",
   "language": "python",
   "name": "python3"
  },
  "language_info": {
   "codemirror_mode": {
    "name": "ipython",
    "version": 3
   },
   "file_extension": ".py",
   "mimetype": "text/x-python",
   "name": "python",
   "nbconvert_exporter": "python",
   "pygments_lexer": "ipython3",
   "version": "3.9.7"
  },
  "orig_nbformat": 4
 },
 "nbformat": 4,
 "nbformat_minor": 2
}
