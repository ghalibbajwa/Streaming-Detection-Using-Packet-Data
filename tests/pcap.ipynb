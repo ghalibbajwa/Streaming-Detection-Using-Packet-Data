{
 "cells": [
  {
   "cell_type": "code",
   "execution_count": 1,
   "metadata": {},
   "outputs": [],
   "source": [
    "from scapy.all import *\n",
    "import pandas as pd \n",
    "import numpy as np \n",
    "import matplotlib.pyplot as plt \n",
    "import matplotlib.dates as mdates\n",
    "import seaborn as sns\n",
    "from sklearn import preprocessing\n",
    "from datetime import datetime\n",
    "import plotly.express as px\n",
    "import statistics"
   ]
  },
  {
   "cell_type": "code",
   "execution_count": 2,
   "metadata": {},
   "outputs": [],
   "source": [
    "scapy_cap = rdpcap('../Data/rw.pcap')"
   ]
  },
  {
   "cell_type": "code",
   "execution_count": 3,
   "metadata": {},
   "outputs": [],
   "source": [
    "P_source = []\n",
    "P_dest = []\n",
    "P_len = []\n",
    "P_dt=[]\n",
    "P_surcePort = []"
   ]
  },
  {
   "cell_type": "code",
   "execution_count": 4,
   "metadata": {},
   "outputs": [],
   "source": [
    "for packets in scapy_cap:\n",
    "    P_source.append(packets[IP].src)\n",
    "    P_dest.append(packets[IP].dst)\n",
    "    P_len.append(packets[IP].len)\n",
    "    P_dt.append(packets[IP].time)\n",
    "    P_surcePort.append(packets[TCP].sport)"
   ]
  },
  {
   "cell_type": "code",
   "execution_count": 7,
   "metadata": {},
   "outputs": [],
   "source": [
    "P_dt2=[]\n",
    "for i in range(1,len(P_dt)):\n",
    "    P_dt2.append(P_dt[i]-P_dt[i-1])\n"
   ]
  },
  {
   "cell_type": "code",
   "execution_count": 9,
   "metadata": {},
   "outputs": [],
   "source": [
    "df=pd.DataFrame({'Source':P_source,'Destination':P_dest,'Length':P_len,'DT':P_dt,'Source Port':P_surcePort})"
   ]
  },
  {
   "cell_type": "code",
   "execution_count": 10,
   "metadata": {},
   "outputs": [
    {
     "name": "stdout",
     "output_type": "stream",
     "text": [
      "            Source      Destination  Length            DT  Source Port\n",
      "0  192.168.137.104    172.217.21.42      60  1.650211e+09        47834\n",
      "1    172.217.21.42  192.168.137.104      60  1.650211e+09          443\n",
      "2  192.168.137.104    172.217.21.42      52  1.650211e+09        47834\n",
      "3  192.168.137.104    172.217.21.42     569  1.650211e+09        47834\n",
      "4    172.217.21.42  192.168.137.104      52  1.650211e+09          443\n"
     ]
    }
   ],
   "source": [
    "print(df.head())"
   ]
  },
  {
   "cell_type": "code",
   "execution_count": 12,
   "metadata": {},
   "outputs": [],
   "source": [
    "df.fillna(0,inplace=True)"
   ]
  },
  {
   "cell_type": "code",
   "execution_count": 14,
   "metadata": {},
   "outputs": [],
   "source": [
    "myip='192.168.137.104'\n",
    "dt=df"
   ]
  },
  {
   "cell_type": "code",
   "execution_count": 15,
   "metadata": {},
   "outputs": [],
   "source": [
    "direction=[]\n",
    "for i in dt['Destination']:\n",
    "    if(i==myip):\n",
    "        direction.append('in')\n",
    "    else:\n",
    "        direction.append('out')"
   ]
  },
  {
   "cell_type": "code",
   "execution_count": 16,
   "metadata": {},
   "outputs": [],
   "source": [
    "dt.insert(0,'direction',direction)"
   ]
  },
  {
   "cell_type": "code",
   "execution_count": 20,
   "metadata": {},
   "outputs": [],
   "source": [
    "inp=[]\n",
    "out=[]\n",
    "leng_mean=[]\n",
    "leng_std=[]\n",
    "leng_min=[]\n",
    "leng_max=[]\n",
    "sum_dt=[]\n",
    "port=[]"
   ]
  },
  {
   "cell_type": "code",
   "execution_count": 21,
   "metadata": {},
   "outputs": [],
   "source": [
    "start=0\n",
    "end=100\n",
    "inps=0\n",
    "outs=0\n",
    "cc=round(dt.shape[0]/100)\n",
    "tempdf=[]\n",
    "tempport=[]\n",
    "tempdt=0\n",
    "for i in range(cc):\n",
    "    for k in range(start,end):\n",
    "        if(dt['direction'][k]=='in'):\n",
    "            inps=inps+1\n",
    "        else:\n",
    "            outs=outs+1\n",
    "        tempdf.append(dt['Length'][k])\n",
    "        tempdt=tempdt+dt['DT'][k]\n",
    "        tempport.append(dt['Source Port'][k])\n",
    "\n",
    "        \n",
    "    leng_mean.append(statistics.mean(tempdf))\n",
    "    leng_std.append(statistics.stdev(tempdf))\n",
    "    leng_min.append(min(tempdf))\n",
    "    leng_max.append(max(tempdf))\n",
    "    sum_dt.append(tempdt)\n",
    "    port.append(max(tempport,key=tempport.count))\n",
    "    \n",
    "    inp.append(inps)\n",
    "    out.append(outs)\n",
    "    start=start+100\n",
    "    end=end+100\n",
    "    inps=0\n",
    "    outs=0\n",
    "    tempdf=[]\n",
    "    tempport=[]\n",
    "    tempdt=0\n"
   ]
  },
  {
   "cell_type": "code",
   "execution_count": 22,
   "metadata": {},
   "outputs": [],
   "source": [
    "df=pd.DataFrame()"
   ]
  },
  {
   "cell_type": "code",
   "execution_count": 23,
   "metadata": {},
   "outputs": [],
   "source": [
    "df.insert(0,'inp',inp)\n",
    "df.insert(1,'out',out)\n",
    "df.insert(2,'leng_mean',leng_mean)\n",
    "df.insert(3,'leng_std',leng_std)\n",
    "df.insert(4,'leng_min',leng_min)\n",
    "df.insert(5,'leng_max',leng_max)\n",
    "df.insert(6,'sum_dt',sum_dt)\n",
    "df.insert(7,'port',port)"
   ]
  },
  {
   "cell_type": "code",
   "execution_count": 24,
   "metadata": {},
   "outputs": [
    {
     "name": "stdout",
     "output_type": "stream",
     "text": [
      "   inp  out  leng_mean    leng_std  leng_min  leng_max        sum_dt  port\n",
      "0   56   44        563  610.707786        52      1470  1.650211e+11   443\n",
      "1   37   63        288  465.745639        52      1470  1.650211e+11   443\n",
      "2   43   57        391  553.813145        40      1470  1.650211e+11   443\n",
      "3   42   58        340  498.887763        40      1470  1.650211e+11   443\n",
      "4   39   61        139  286.623446        52      1470  1.650211e+11   443\n"
     ]
    }
   ],
   "source": [
    "print(df.head())"
   ]
  },
  {
   "cell_type": "code",
   "execution_count": 25,
   "metadata": {},
   "outputs": [],
   "source": [
    "import pickle\n",
    "loaded_model = pickle.load(open('../exe/KNN2.sav', 'rb')) # Load the model \n"
   ]
  },
  {
   "cell_type": "code",
   "execution_count": 27,
   "metadata": {},
   "outputs": [],
   "source": [
    "import joblib\n",
    "joblib.dump(loaded_model, '../exe/KNN2.sav')"
   ]
  }
 ],
 "metadata": {
  "interpreter": {
   "hash": "75ec59e174848c9bbbe994493803464d4a3b0efdc7804d5dc9069175ac4a8038"
  },
  "kernelspec": {
   "display_name": "Python 3.9.7",
   "language": "python",
   "name": "python3"
  },
  "language_info": {
   "codemirror_mode": {
    "name": "ipython",
    "version": 3
   },
   "file_extension": ".py",
   "mimetype": "text/x-python",
   "name": "python",
   "nbconvert_exporter": "python",
   "pygments_lexer": "ipython3",
   "version": "3.9.7"
  },
  "orig_nbformat": 4
 },
 "nbformat": 4,
 "nbformat_minor": 2
}
