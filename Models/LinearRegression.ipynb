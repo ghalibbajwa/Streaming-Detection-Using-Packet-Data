{
 "cells": [
  {
   "cell_type": "markdown",
   "metadata": {},
   "source": [
    "LIBRARIES"
   ]
  },
  {
   "cell_type": "code",
   "execution_count": 1,
   "metadata": {},
   "outputs": [],
   "source": [
    "import matplotlib.pyplot as plt\n",
    "import numpy as np\n",
    "from sklearn import datasets, linear_model, metrics\n",
    "import pandas as pd\n",
    "from sklearn import preprocessing\n",
    "from sklearn.model_selection import train_test_split\n",
    "import pickle"
   ]
  },
  {
   "cell_type": "code",
   "execution_count": 2,
   "metadata": {},
   "outputs": [
    {
     "name": "stdout",
     "output_type": "stream",
     "text": [
      "                         Time  Protocol  Length        DT  source port  \\\n",
      "0  2021-12-12 19:24:54.113588        10      66  0.147364        443.0   \n",
      "1  2021-12-12 19:24:54.215187        12     281  0.101599        443.0   \n",
      "2  2021-12-12 19:24:57.467081        10      66  0.151991        443.0   \n",
      "3  2021-12-12 19:24:57.629709        12     283  0.162628        443.0   \n",
      "4  2021-12-12 19:24:58.846692        10      66  0.011171        443.0   \n",
      "\n",
      "     Absolute Time  Cumulative Bytes  \n",
      "0  00:24:54.113588               894  \n",
      "1  00:24:54.215187              1175  \n",
      "2  00:24:57.467081              1727  \n",
      "3  00:24:57.629709              2010  \n",
      "4  00:24:58.846692              2336  \n"
     ]
    }
   ],
   "source": [
    "df=pd.read_csv('../Data/clean_FB.csv') # read the data\n",
    "print(df.head())"
   ]
  },
  {
   "cell_type": "markdown",
   "metadata": {},
   "source": [
    "ALGORITHM"
   ]
  },
  {
   "cell_type": "code",
   "execution_count": 3,
   "metadata": {},
   "outputs": [],
   "source": [
    "X=df[['Protocol','Length','DT','Cumulative Bytes']].values # Features \n",
    "y=df['source port'].values # target\n",
    "\n",
    "X_train, X_test, y_train, y_test = train_test_split(X, y, test_size=0.20) # 20% test data\n"
   ]
  },
  {
   "cell_type": "code",
   "execution_count": 4,
   "metadata": {},
   "outputs": [
    {
     "name": "stdout",
     "output_type": "stream",
     "text": [
      "Coefficients:  [-7.43428963e+01 -2.84336292e+01  8.80197209e+03  1.01472922e-05]\n",
      "Variance score: 0.9312419226699407\n"
     ]
    },
    {
     "data": {
      "image/png": "[encoded data removed]",
      "text/plain": [
       "<Figure size 432x288 with 1 Axes>"
      ]
     },
     "metadata": {},
     "output_type": "display_data"
    }
   ],
   "source": [
    "# create linear regression object\n",
    "reg = linear_model.LinearRegression()\n",
    "\n",
    "# train the model using the training sets\n",
    "reg.fit(X_train, y_train)\n",
    "\n",
    "# regression coefficients\n",
    "print('Coefficients: ', reg.coef_)\n",
    "\n",
    "# variance score: 1 means perfect prediction\n",
    "print('Variance score: {}'.format(reg.score(X_test, y_test)))\n",
    "\n",
    "# plot for residual error\n",
    "\n",
    "## setting plot style\n",
    "plt.style.use('fivethirtyeight')\n",
    "\n",
    "## plotting residual errors in training data\n",
    "plt.scatter(reg.predict(X_train), reg.predict(X_train) - y_train,\n",
    "\t\t\tcolor = \"green\", s = 10, label = 'Train data')\n",
    "\n",
    "## plotting residual errors in test data\n",
    "plt.scatter(reg.predict(X_test), reg.predict(X_test) - y_test,\n",
    "\t\t\tcolor = \"blue\", s = 10, label = 'Test data')\n",
    "\n",
    "## plotting line for zero residual error\n",
    "plt.hlines(y = 0, xmin = 0, xmax = 50, linewidth = 2)\n",
    "\n",
    "## plotting legend\n",
    "plt.legend(loc = 'upper right')\n",
    "\n",
    "## plot title\n",
    "plt.title(\"Residual errors\")\n",
    "\n",
    "## method call for showing the plot\n",
    "plt.show()\n"
   ]
  },
  {
   "cell_type": "markdown",
   "metadata": {},
   "source": [
    "SAVING MODEL"
   ]
  },
  {
   "cell_type": "code",
   "execution_count": 5,
   "metadata": {},
   "outputs": [],
   "source": [
    "filename = 'LinearRegression.sav' \n",
    "pickle.dump(reg , open(filename, 'wb')) # Save the model"
   ]
  },
  {
   "cell_type": "code",
   "execution_count": 6,
   "metadata": {},
   "outputs": [
    {
     "name": "stdout",
     "output_type": "stream",
     "text": [
      "                         Time  Protocol  Length        DT  source port  \\\n",
      "0  2021-12-12 18:49:13.901896         0      83  0.000000      46267.0   \n",
      "1  2021-12-12 18:49:13.919080         0      99  0.017184         53.0   \n",
      "2  2021-12-12 18:49:13.932882         5    1392  0.013802      44589.0   \n",
      "3  2021-12-12 18:49:13.976489         5      84  0.043607        443.0   \n",
      "4  2021-12-12 18:49:14.185215         5    1392  0.208726        443.0   \n",
      "\n",
      "     Absolute Time  Cumulative Bytes  Frequency  TX Delay  Relative Time  \\\n",
      "0  23:49:13.901896                83        NaN       NaN       0.000000   \n",
      "1  23:49:13.919080               182        NaN       NaN       0.017184   \n",
      "2  23:49:13.932882              1574        NaN       NaN       0.030986   \n",
      "3  23:49:13.976489              1658        NaN       NaN       0.074593   \n",
      "4  23:49:14.185215              3050        NaN       NaN       0.283319   \n",
      "\n",
      "                                          New Column  \n",
      "0    Standard query 0xd353 A youtubei.googleapis.com  \n",
      "1  Standard query response 0xd353 A youtubei.goog...  \n",
      "2                                       Client Hello  \n",
      "3             Initial, SCID=183feffe5d3a2627, PKN: 1  \n",
      "4                       0-RTT, SCID=183feffe5d3a2627  \n"
     ]
    }
   ],
   "source": [
    "df4=pd.read_csv('../Data/Youtube.csv')\n",
    "df4.drop('No.',axis=1,inplace=True)\n",
    "label_encoder = preprocessing.LabelEncoder()\n",
    "df4=df4[~df4['source port'].isnull()].copy()\n",
    "df4.isnull().sum()\n",
    "df4['Protocol']=label_encoder.fit_transform(df4['Protocol'])\n",
    "print(df4.head())"
   ]
  },
  {
   "cell_type": "code",
   "execution_count": 7,
   "metadata": {},
   "outputs": [],
   "source": [
    "X2=df4[['Protocol','Length','DT','Cumulative Bytes']].values\n",
    "loaded_model = pickle.load(open(filename, 'rb')) # Load the model \n",
    "result = loaded_model.predict(X2)"
   ]
  },
  {
   "cell_type": "code",
   "execution_count": 8,
   "metadata": {},
   "outputs": [],
   "source": [
    "df4['Predict'] = result # Add the predicted data to the dataframe"
   ]
  }
 ],
 "metadata": {
  "interpreter": {
   "hash": "75ec59e174848c9bbbe994493803464d4a3b0efdc7804d5dc9069175ac4a8038"
  },
  "kernelspec": {
   "display_name": "Python 3.9.7 64-bit (conda)",
   "language": "python",
   "name": "python3"
  },
  "language_info": {
   "codemirror_mode": {
    "name": "ipython",
    "version": 3
   },
   "file_extension": ".py",
   "mimetype": "text/x-python",
   "name": "python",
   "nbconvert_exporter": "python",
   "pygments_lexer": "ipython3",
   "version": "3.9.7"
  },
  "orig_nbformat": 4
 },
 "nbformat": 4,
 "nbformat_minor": 2
}
