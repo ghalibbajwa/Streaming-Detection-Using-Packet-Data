{
 "cells": [
  {
   "cell_type": "markdown",
   "metadata": {},
   "source": [
    "LIBRARIES"
   ]
  },
  {
   "cell_type": "code",
   "execution_count": 1,
   "metadata": {},
   "outputs": [],
   "source": [
    "import matplotlib.pyplot as plt\n",
    "import numpy as np\n",
    "from sklearn import datasets, linear_model, metrics\n",
    "import pandas as pd\n",
    "from sklearn.ensemble import RandomForestRegressor\n",
    "\n",
    "\n",
    "\n",
    "\n",
    "import matplotlib.dates as mdates\n",
    "import seaborn as sns\n",
    "from sklearn import preprocessing"
   ]
  },
  {
   "cell_type": "code",
   "execution_count": 2,
   "metadata": {},
   "outputs": [
    {
     "name": "stdout",
     "output_type": "stream",
     "text": [
      "                         Time  Protocol  Length        DT  source port  \\\n",
      "0  2021-12-12 19:24:54.113588        10      66  0.147364        443.0   \n",
      "1  2021-12-12 19:24:54.215187        12     281  0.101599        443.0   \n",
      "2  2021-12-12 19:24:57.467081        10      66  0.151991        443.0   \n",
      "3  2021-12-12 19:24:57.629709        12     283  0.162628        443.0   \n",
      "4  2021-12-12 19:24:58.846692        10      66  0.011171        443.0   \n",
      "\n",
      "     Absolute Time  Cumulative Bytes  \n",
      "0  00:24:54.113588               894  \n",
      "1  00:24:54.215187              1175  \n",
      "2  00:24:57.467081              1727  \n",
      "3  00:24:57.629709              2010  \n",
      "4  00:24:58.846692              2336  \n"
     ]
    }
   ],
   "source": [
    "df=pd.read_csv('../Data/clean_FB.csv')\n",
    "print(df.head())"
   ]
  },
  {
   "cell_type": "markdown",
   "metadata": {},
   "source": [
    "ALGORITHM"
   ]
  },
  {
   "cell_type": "code",
   "execution_count": 3,
   "metadata": {},
   "outputs": [],
   "source": [
    "x=df[['Length','DT','Cumulative Bytes']].values\n",
    "y=df['source port'].values"
   ]
  },
  {
   "cell_type": "code",
   "execution_count": 4,
   "metadata": {},
   "outputs": [
    {
     "data": {
      "text/plain": [
       "RandomForestRegressor(random_state=0)"
      ]
     },
     "execution_count": 4,
     "metadata": {},
     "output_type": "execute_result"
    }
   ],
   "source": [
    "# create regressor object\n",
    "regressor = RandomForestRegressor(n_estimators = 100, random_state = 0)\n",
    "  \n",
    "# fit the regressor with x and y data\n",
    "regressor.fit(x, y) "
   ]
  },
  {
   "cell_type": "markdown",
   "metadata": {},
   "source": [
    "CAMPARING"
   ]
  },
  {
   "cell_type": "code",
   "execution_count": null,
   "metadata": {},
   "outputs": [],
   "source": [
    "label_encoder = preprocessing.LabelEncoder()\n",
    "\n",
    "df5=pd.read_csv('../Data/Youtube.csv')\n",
    "df5.drop('No.',axis=1,inplace=True)\n",
    "\n",
    "\n",
    "\n",
    "\n",
    "df5=df5[~df5['source port'].isnull()].copy()\n",
    "df5['Protocol']=label_encoder.fit_transform(df5['Protocol'])\n",
    "#onehot-encoding\n",
    "df5.isnull().sum()\n",
    "#df.drop('Frequency',axis=1,inplace=True)\n",
    "#df.drop('TX Delay',axis=1,inplace=True)\n",
    "\n",
    "print(df5.head())"
   ]
  }
 ],
 "metadata": {
  "interpreter": {
   "hash": "7fe654e8778bbb8cd1c4e14e4ab5e87605208a9e101e5f5d4d298b26f5037e31"
  },
  "kernelspec": {
   "display_name": "Python 3.9.7 64-bit ('base': conda)",
   "language": "python",
   "name": "python3"
  },
  "language_info": {
   "codemirror_mode": {
    "name": "ipython",
    "version": 3
   },
   "file_extension": ".py",
   "mimetype": "text/x-python",
   "name": "python",
   "nbconvert_exporter": "python",
   "pygments_lexer": "ipython3",
   "version": "3.9.7"
  },
  "orig_nbformat": 4
 },
 "nbformat": 4,
 "nbformat_minor": 2
}
