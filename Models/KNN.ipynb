{
 "cells": [
  {
   "cell_type": "markdown",
   "metadata": {},
   "source": [
    "LIBRARIES"
   ]
  },
  {
   "cell_type": "code",
   "execution_count": 1,
   "metadata": {},
   "outputs": [],
   "source": [
    "import pandas as pd\n",
    "import numpy as np\n",
    "import matplotlib.pyplot as plt\n",
    "from sklearn import preprocessing\n",
    "from datetime import datetime\n",
    "from sklearn.model_selection import train_test_split \n",
    "from sklearn.preprocessing import StandardScaler\n",
    "from sklearn.neighbors import KNeighborsClassifier\n",
    "from sklearn.metrics import classification_report, confusion_matrix\n",
    "import pickle\n",
    "from sklearn import preprocessing"
   ]
  },
  {
   "cell_type": "code",
   "execution_count": 2,
   "metadata": {},
   "outputs": [
    {
     "name": "stdout",
     "output_type": "stream",
     "text": [
      "                         Time  Protocol  Length        DT  source port  \\\n",
      "0  2021-12-12 19:24:54.113588        10      66  0.147364        443.0   \n",
      "1  2021-12-12 19:24:54.215187        12     281  0.101599        443.0   \n",
      "2  2021-12-12 19:24:57.467081        10      66  0.151991        443.0   \n",
      "3  2021-12-12 19:24:57.629709        12     283  0.162628        443.0   \n",
      "4  2021-12-12 19:24:58.846692        10      66  0.011171        443.0   \n",
      "\n",
      "     Absolute Time  Cumulative Bytes  \n",
      "0  00:24:54.113588               894  \n",
      "1  00:24:54.215187              1175  \n",
      "2  00:24:57.467081              1727  \n",
      "3  00:24:57.629709              2010  \n",
      "4  00:24:58.846692              2336  \n"
     ]
    }
   ],
   "source": [
    "df=pd.read_csv('../Data/clean_FB.csv') # read the Cleaned data\n",
    "print(df.head())"
   ]
  },
  {
   "cell_type": "markdown",
   "metadata": {},
   "source": [
    "ALGORITHM"
   ]
  },
  {
   "cell_type": "code",
   "execution_count": 3,
   "metadata": {},
   "outputs": [
    {
     "name": "stdout",
     "output_type": "stream",
     "text": [
      "[[ 8419   158     1     0     0     0]\n",
      " [   73  5544     7     1     0     0]\n",
      " [    3     5  6544    12     2     0]\n",
      " [    1     0    14  5901    15     0]\n",
      " [    0     0     0    27  8916     2]\n",
      " [    0     1     0     1    12 11536]]\n",
      "              precision    recall  f1-score   support\n",
      "\n",
      "       443.0       0.99      0.98      0.99      8578\n",
      "     41983.0       0.97      0.99      0.98      5625\n",
      "     42113.0       1.00      1.00      1.00      6566\n",
      "     42203.0       0.99      0.99      0.99      5931\n",
      "     42565.0       1.00      1.00      1.00      8945\n",
      "     42806.0       1.00      1.00      1.00     11550\n",
      "\n",
      "    accuracy                           0.99     47195\n",
      "   macro avg       0.99      0.99      0.99     47195\n",
      "weighted avg       0.99      0.99      0.99     47195\n",
      "\n"
     ]
    }
   ],
   "source": [
    "X=df[['Protocol','Length','DT','Cumulative Bytes']].values # Features \n",
    "y=df['source port'].values # target\n",
    "\n",
    "X_train, X_test, y_train, y_test = train_test_split(X, y, test_size=0.20) # 20% test data\n",
    "\n",
    "scaler = StandardScaler() # Standard Scaler object\n",
    "scaler.fit(X_train) # Fit the scaler object to the training data\n",
    "\n",
    "X_train = scaler.transform(X_train) # Transform the training data\n",
    "X_test = scaler.transform(X_test) # Transform the test data\n",
    "\n",
    "classifier = KNeighborsClassifier(n_neighbors=5) # KNN object\n",
    "classifier.fit(X_train, y_train) # Fit the KNN object to the training data\n",
    "\n",
    "y_pred = classifier.predict(X_test) # Predict the test data\n",
    "\n",
    "print(confusion_matrix(y_test, y_pred)) # Confusion Matrix\n",
    "print(classification_report(y_test, y_pred)) # Classification Report"
   ]
  },
  {
   "cell_type": "markdown",
   "metadata": {},
   "source": [
    "SAVING MODEL"
   ]
  },
  {
   "cell_type": "code",
   "execution_count": 30,
   "metadata": {},
   "outputs": [],
   "source": [
    "filename = 'KNN.sav' \n",
    "pickle.dump(y_pred , open(filename, 'wb')) # Save the model"
   ]
  },
  {
   "cell_type": "markdown",
   "metadata": {},
   "source": [
    "TESTING ON REAL DATA"
   ]
  },
  {
   "cell_type": "code",
   "execution_count": 41,
   "metadata": {},
   "outputs": [
    {
     "name": "stdout",
     "output_type": "stream",
     "text": [
      "                         Time  Protocol  Length        DT  source port  \\\n",
      "0  2021-12-12 18:49:13.901896         0      83  0.000000      46267.0   \n",
      "1  2021-12-12 18:49:13.919080         0      99  0.017184         53.0   \n",
      "2  2021-12-12 18:49:13.932882         5    1392  0.013802      44589.0   \n",
      "3  2021-12-12 18:49:13.976489         5      84  0.043607        443.0   \n",
      "4  2021-12-12 18:49:14.185215         5    1392  0.208726        443.0   \n",
      "\n",
      "     Absolute Time  Cumulative Bytes  Frequency  TX Delay  Relative Time  \\\n",
      "0  23:49:13.901896                83        NaN       NaN       0.000000   \n",
      "1  23:49:13.919080               182        NaN       NaN       0.017184   \n",
      "2  23:49:13.932882              1574        NaN       NaN       0.030986   \n",
      "3  23:49:13.976489              1658        NaN       NaN       0.074593   \n",
      "4  23:49:14.185215              3050        NaN       NaN       0.283319   \n",
      "\n",
      "                                          New Column  \n",
      "0    Standard query 0xd353 A youtubei.googleapis.com  \n",
      "1  Standard query response 0xd353 A youtubei.goog...  \n",
      "2                                       Client Hello  \n",
      "3             Initial, SCID=183feffe5d3a2627, PKN: 1  \n",
      "4                       0-RTT, SCID=183feffe5d3a2627  \n"
     ]
    }
   ],
   "source": [
    "df4=pd.read_csv('../Data/Youtube.csv')\n",
    "df4.drop('No.',axis=1,inplace=True)\n",
    "label_encoder = preprocessing.LabelEncoder()\n",
    "df4=df4[~df4['source port'].isnull()].copy()\n",
    "df4.isnull().sum()\n",
    "df4['Protocol']=label_encoder.fit_transform(df4['Protocol'])\n",
    "print(df4.head())"
   ]
  },
  {
   "cell_type": "code",
   "execution_count": 43,
   "metadata": {},
   "outputs": [],
   "source": [
    "X2=df4[['Protocol','Length','DT','Cumulative Bytes']].values\n",
    "loaded_model = pickle.load(open(filename, 'rb')) # Load the model \n",
    "loaded_model = classifier.predict(X2) # Predict the new data"
   ]
  },
  {
   "cell_type": "code",
   "execution_count": 44,
   "metadata": {},
   "outputs": [],
   "source": [
    "df4['Predict'] = loaded_model # Add the predicted data to the dataframe"
   ]
  },
  {
   "cell_type": "code",
   "execution_count": 48,
   "metadata": {},
   "outputs": [
    {
     "data": {
      "text/plain": [
       "<AxesSubplot:ylabel='Predict'>"
      ]
     },
     "execution_count": 48,
     "metadata": {},
     "output_type": "execute_result"
    },
    {
     "data": {
      "image/png": "[encoded data removed]",
      "text/plain": [
       "<Figure size 432x288 with 1 Axes>"
      ]
     },
     "metadata": {},
     "output_type": "display_data"
    }
   ],
   "source": [
    "df4['Predict'].value_counts().plot(kind='pie')"
   ]
  },
  {
   "cell_type": "code",
   "execution_count": 47,
   "metadata": {},
   "outputs": [
    {
     "data": {
      "text/plain": [
       "<AxesSubplot:ylabel='source port'>"
      ]
     },
     "execution_count": 47,
     "metadata": {},
     "output_type": "execute_result"
    },
    {
     "data": {
      "image/png": "[encoded data removed]",
      "text/plain": [
       "<Figure size 432x288 with 1 Axes>"
      ]
     },
     "metadata": {},
     "output_type": "display_data"
    }
   ],
   "source": [
    "df4['source port'].value_counts().plot(kind='pie')"
   ]
  }
 ],
 "metadata": {
  "interpreter": {
   "hash": "75ec59e174848c9bbbe994493803464d4a3b0efdc7804d5dc9069175ac4a8038"
  },
  "kernelspec": {
   "display_name": "Python 3.9.7 64-bit (conda)",
   "language": "python",
   "name": "python3"
  },
  "language_info": {
   "codemirror_mode": {
    "name": "ipython",
    "version": 3
   },
   "file_extension": ".py",
   "mimetype": "text/x-python",
   "name": "python",
   "nbconvert_exporter": "python",
   "pygments_lexer": "ipython3",
   "version": "3.9.7"
  },
  "orig_nbformat": 4
 },
 "nbformat": 4,
 "nbformat_minor": 2
}
