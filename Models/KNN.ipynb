{
 "cells": [
  {
   "cell_type": "markdown",
   "metadata": {},
   "source": [
    "LIBRARIES"
   ]
  },
  {
   "cell_type": "code",
   "execution_count": 18,
   "metadata": {},
   "outputs": [],
   "source": [
    "import pandas as pd\n",
    "import numpy as np\n",
    "import matplotlib.pyplot as plt\n",
    "from sklearn import preprocessing\n",
    "from datetime import datetime\n",
    "from sklearn.model_selection import train_test_split \n",
    "from sklearn.preprocessing import StandardScaler\n",
    "from sklearn.neighbors import KNeighborsClassifier\n",
    "from sklearn.metrics import classification_report, confusion_matrix\n",
    "import pickle\n",
    "from sklearn import preprocessing"
   ]
  },
  {
   "cell_type": "code",
   "execution_count": 19,
   "metadata": {},
   "outputs": [
    {
     "name": "stdout",
     "output_type": "stream",
     "text": [
      "                         Time  Protocol  Length        DT  source port  \\\n",
      "0  2021-12-12 19:24:54.113588        10      66  0.147364        443.0   \n",
      "1  2021-12-12 19:24:54.215187        12     281  0.101599        443.0   \n",
      "2  2021-12-12 19:24:57.467081        10      66  0.151991        443.0   \n",
      "3  2021-12-12 19:24:57.629709        12     283  0.162628        443.0   \n",
      "4  2021-12-12 19:24:58.846692        10      66  0.011171        443.0   \n",
      "\n",
      "     Absolute Time  Cumulative Bytes  \n",
      "0  00:24:54.113588               894  \n",
      "1  00:24:54.215187              1175  \n",
      "2  00:24:57.467081              1727  \n",
      "3  00:24:57.629709              2010  \n",
      "4  00:24:58.846692              2336  \n"
     ]
    }
   ],
   "source": [
    "df=pd.read_csv('../Data/clean_FB.csv') # read the Cleaned data\n",
    "print(df.head())"
   ]
  },
  {
   "cell_type": "markdown",
   "metadata": {},
   "source": [
    "ALGORITHM"
   ]
  },
  {
   "cell_type": "code",
   "execution_count": 20,
   "metadata": {},
   "outputs": [
    {
     "name": "stdout",
     "output_type": "stream",
     "text": [
      "[[ 9468  1980   142     0     0     0]\n",
      " [ 1055  4557     0     0     0     0]\n",
      " [   77     1  6399     0     0     0]\n",
      " [    0     0     1  5909     0     0]\n",
      " [    0     0     0     0  9031     0]\n",
      " [    0     0     0     0     0 11503]]\n",
      "              precision    recall  f1-score   support\n",
      "\n",
      "       443.0       0.89      0.82      0.85     11590\n",
      "     41983.0       0.70      0.81      0.75      5612\n",
      "     42113.0       0.98      0.99      0.98      6477\n",
      "     42203.0       1.00      1.00      1.00      5910\n",
      "     42565.0       1.00      1.00      1.00      9031\n",
      "     42806.0       1.00      1.00      1.00     11503\n",
      "\n",
      "    accuracy                           0.94     50123\n",
      "   macro avg       0.93      0.94      0.93     50123\n",
      "weighted avg       0.94      0.94      0.94     50123\n",
      "\n"
     ]
    }
   ],
   "source": [
    "X=df[['Protocol','Length','DT','Cumulative Bytes']].values # Features \n",
    "y=df['source port'].values # target\n",
    "\n",
    "X_train, X_test, y_train, y_test = train_test_split(X, y, test_size=0.20) # 20% test data\n",
    "\n",
    "classifier = KNeighborsClassifier(n_neighbors=5) # KNN object\n",
    "classifier.fit(X_train, y_train) # Fit the KNN object to the training data\n",
    "\n",
    "y_pred = classifier.predict(X_test) # Predict the test data\n",
    "\n",
    "print(confusion_matrix(y_test, y_pred)) # Confusion Matrix\n",
    "print(classification_report(y_test, y_pred)) # Classification Report"
   ]
  },
  {
   "cell_type": "markdown",
   "metadata": {},
   "source": [
    "SAVING MODEL"
   ]
  },
  {
   "cell_type": "code",
   "execution_count": 21,
   "metadata": {},
   "outputs": [],
   "source": [
    "filename = 'KNN.sav' \n",
    "pickle.dump(classifier , open(filename, 'wb')) # Save the model"
   ]
  },
  {
   "cell_type": "markdown",
   "metadata": {},
   "source": [
    "TESTING ON REAL DATA"
   ]
  },
  {
   "cell_type": "code",
   "execution_count": 22,
   "metadata": {},
   "outputs": [
    {
     "name": "stdout",
     "output_type": "stream",
     "text": [
      "                         Time  Protocol  Length        DT  source port  \\\n",
      "0  2021-12-12 18:49:13.901896         0      83  0.000000      46267.0   \n",
      "1  2021-12-12 18:49:13.919080         0      99  0.017184         53.0   \n",
      "2  2021-12-12 18:49:13.932882         5    1392  0.013802      44589.0   \n",
      "3  2021-12-12 18:49:13.976489         5      84  0.043607        443.0   \n",
      "4  2021-12-12 18:49:14.185215         5    1392  0.208726        443.0   \n",
      "\n",
      "     Absolute Time  Cumulative Bytes  Frequency  TX Delay  Relative Time  \\\n",
      "0  23:49:13.901896                83        NaN       NaN       0.000000   \n",
      "1  23:49:13.919080               182        NaN       NaN       0.017184   \n",
      "2  23:49:13.932882              1574        NaN       NaN       0.030986   \n",
      "3  23:49:13.976489              1658        NaN       NaN       0.074593   \n",
      "4  23:49:14.185215              3050        NaN       NaN       0.283319   \n",
      "\n",
      "                                          New Column  \n",
      "0    Standard query 0xd353 A youtubei.googleapis.com  \n",
      "1  Standard query response 0xd353 A youtubei.goog...  \n",
      "2                                       Client Hello  \n",
      "3             Initial, SCID=183feffe5d3a2627, PKN: 1  \n",
      "4                       0-RTT, SCID=183feffe5d3a2627  \n"
     ]
    }
   ],
   "source": [
    "df4=pd.read_csv('../Data/Youtube.csv')\n",
    "df4.drop('No.',axis=1,inplace=True)\n",
    "label_encoder = preprocessing.LabelEncoder()\n",
    "df4=df4[~df4['source port'].isnull()].copy()\n",
    "df4.isnull().sum()\n",
    "df4['Protocol']=label_encoder.fit_transform(df4['Protocol'])\n",
    "print(df4.head())"
   ]
  },
  {
   "cell_type": "code",
   "execution_count": 23,
   "metadata": {},
   "outputs": [],
   "source": [
    "X2=df4[['Protocol','Length','DT','Cumulative Bytes']].values\n",
    "loaded_model = pickle.load(open(filename, 'rb')) # Load the model \n",
    "Result = loaded_model.predict(X2) # Predict the test data\n"
   ]
  },
  {
   "cell_type": "code",
   "execution_count": 24,
   "metadata": {},
   "outputs": [],
   "source": [
    "df4['Predict'] = Result # Add the predicted data to the dataframe"
   ]
  },
  {
   "cell_type": "code",
   "execution_count": 25,
   "metadata": {},
   "outputs": [
    {
     "data": {
      "text/plain": [
       "<AxesSubplot:ylabel='Predict'>"
      ]
     },
     "execution_count": 25,
     "metadata": {},
     "output_type": "execute_result"
    },
    {
     "data": {
      "image/png": "[encoded data removed]",
      "text/plain": [
       "<Figure size 432x288 with 1 Axes>"
      ]
     },
     "metadata": {},
     "output_type": "display_data"
    }
   ],
   "source": [
    "df4['Predict'].value_counts().plot(kind='pie') # Predicted"
   ]
  },
  {
   "cell_type": "code",
   "execution_count": 26,
   "metadata": {},
   "outputs": [
    {
     "data": {
      "text/plain": [
       "<AxesSubplot:ylabel='source port'>"
      ]
     },
     "execution_count": 26,
     "metadata": {},
     "output_type": "execute_result"
    },
    {
     "data": {
      "image/png": "[encoded data removed]",
      "text/plain": [
       "<Figure size 432x288 with 1 Axes>"
      ]
     },
     "metadata": {},
     "output_type": "display_data"
    }
   ],
   "source": [
    "df4['source port'].value_counts().plot(kind='pie') # Actual Port distribution"
   ]
  }
 ],
 "metadata": {
  "interpreter": {
   "hash": "75ec59e174848c9bbbe994493803464d4a3b0efdc7804d5dc9069175ac4a8038"
  },
  "kernelspec": {
   "display_name": "Python 3.9.7 64-bit (conda)",
   "language": "python",
   "name": "python3"
  },
  "language_info": {
   "codemirror_mode": {
    "name": "ipython",
    "version": 3
   },
   "file_extension": ".py",
   "mimetype": "text/x-python",
   "name": "python",
   "nbconvert_exporter": "python",
   "pygments_lexer": "ipython3",
   "version": "3.9.7"
  },
  "orig_nbformat": 4
 },
 "nbformat": 4,
 "nbformat_minor": 2
}
